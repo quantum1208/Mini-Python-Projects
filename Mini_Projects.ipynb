{
  "nbformat": 4,
  "nbformat_minor": 0,
  "metadata": {
    "colab": {
      "provenance": [],
      "authorship_tag": "ABX9TyPVJww+eY8pA4fqPhQk9gMV",
      "include_colab_link": true
    },
    "kernelspec": {
      "name": "python3",
      "display_name": "Python 3"
    },
    "language_info": {
      "name": "python"
    }
  },
  "cells": [
    {
      "cell_type": "markdown",
      "metadata": {
        "id": "view-in-github",
        "colab_type": "text"
      },
      "source": [
        "<a href=\"https://colab.research.google.com/github/sarah-julia-dsouza/Mini-Python-Projects/blob/main/Mini_Projects.ipynb\" target=\"_parent\"><img src=\"https://colab.research.google.com/assets/colab-badge.svg\" alt=\"Open In Colab\"/></a>"
      ]
    },
    {
      "cell_type": "markdown",
      "source": [
        "Chores Random"
      ],
      "metadata": {
        "id": "O8e23bggPHbb"
      }
    },
    {
      "cell_type": "code",
      "source": [
        "list_names = []\n",
        "n = int(input('Enter the number of People for chores '))\n",
        "for i in range(n):\n",
        "    element = input(f\"Enter name {i+1}: \")\n",
        "    list_names.append(element)\n",
        "\n",
        "import random\n",
        "print(\"-------Chores Random---------\")\n",
        "print(\"Cooking will be done by\", random.choice(list_names))\n",
        "print(\"Laundry will be done by\", random.choice(list_names))\n",
        "print(\"Dishes will be done by\", random.choice(list_names))\n",
        "print(\"Cleaning will be done by\", random.choice(list_names))\n"
      ],
      "metadata": {
        "colab": {
          "base_uri": "https://localhost:8080/"
        },
        "id": "7RsJyid_PD3g",
        "outputId": "9f22f9da-3cc0-4be1-9735-cdcf074c3a90"
      },
      "execution_count": null,
      "outputs": [
        {
          "output_type": "stream",
          "name": "stdout",
          "text": [
            "Enter the number of People for chores 3\n",
            "Enter name 1: Sarah\n",
            "Enter name 2: Julia\n",
            "Enter name 3: Sharol\n",
            "Cooking will be done by Sharol\n",
            "Laundry will be done by Julia\n",
            "Dishes will be done by Sarah\n",
            "Cleaning will be done by Julia\n"
          ]
        }
      ]
    },
    {
      "cell_type": "markdown",
      "source": [
        "Calculator"
      ],
      "metadata": {
        "id": "BgWfWCK2bVq5"
      }
    },
    {
      "cell_type": "code",
      "execution_count": null,
      "metadata": {
        "colab": {
          "base_uri": "https://localhost:8080/"
        },
        "id": "WCi-bN3iaBUc",
        "outputId": "7a159fb7-ce4b-44aa-8d8f-b994f4b17f06"
      },
      "outputs": [
        {
          "output_type": "stream",
          "name": "stdout",
          "text": [
            "---Calculator---\n",
            "Enter first number 20\n",
            "Enter second number 4\n",
            "Enter the operation + for add, - for sub, * for multiply and / for divide *\n",
            "80\n"
          ]
        }
      ],
      "source": [
        "# Calculator\n",
        "def add(a,b):\n",
        "  print(a+b)\n",
        "def sub(a,b):\n",
        "  if a>b:\n",
        "    print(a-b)\n",
        "  else:\n",
        "    print(b-a)\n",
        "def mul(a,b):\n",
        "    print(a*b)\n",
        "def div(a,b):\n",
        "  print(round(a/b,2))\n",
        "\n",
        "print(\"---Calculator---\")\n",
        "x = int(input(\"Enter first number \"))\n",
        "y = int(input(\"Enter second number \"))\n",
        "Z = str(input(\"Enter the operation + for add, - for sub, * for multiply and / for divide \"))\n",
        "if Z == '+':\n",
        "  add(x,y)\n",
        "elif Z == '-':\n",
        "  sub(x,y)\n",
        "elif Z == '*':\n",
        "  mul(x,y)\n",
        "else:\n",
        "  div(x,y)"
      ]
    },
    {
      "cell_type": "markdown",
      "source": [
        "Guessing game"
      ],
      "metadata": {
        "id": "JxYs3F_LbgOC"
      }
    },
    {
      "cell_type": "code",
      "source": [
        "print(\"Guessing game - Select a number from 1 to 100\\n You have 3 chances!!!\")\n",
        "import random as r\n",
        "X = r.randint(1,100)\n",
        "for i in range(3):\n",
        "  try:\n",
        "    Y = int(input(\"Enter your guess \"))\n",
        "  except:\n",
        "    print(\"Enter a valid number\")\n",
        "    continue\n",
        "\n",
        "  if X==Y:\n",
        "    print(\"You've guessed it right\")\n",
        "  elif Y<X:\n",
        "    print(\"The number you chose is too low\")\n",
        "  else:\n",
        "    print(\"The number you chose is quite high\")\n"
      ],
      "metadata": {
        "colab": {
          "base_uri": "https://localhost:8080/"
        },
        "id": "VGQpHw4zbURf",
        "outputId": "69521c54-edaf-4fd3-cce4-37d4b4f82400"
      },
      "execution_count": null,
      "outputs": [
        {
          "output_type": "stream",
          "name": "stdout",
          "text": [
            "Guessing game - Select a number from 1 to 100\n",
            " You have 3 chances!!!\n",
            "Enter your guess a\n",
            "Enter a valid number\n",
            "Enter your guess 1\n",
            "The number you chose is too low\n",
            "Enter your guess 44\n",
            "The number you chose is too low\n"
          ]
        }
      ]
    },
    {
      "cell_type": "markdown",
      "source": [
        "Rock Paper Scissior"
      ],
      "metadata": {
        "id": "nGn5J-x7byIf"
      }
    },
    {
      "cell_type": "code",
      "source": [
        "print(\"Lets play rock paper scissor\")\n",
        "print(\"Type in R for Rock\\n        P for paper and\\n        S for scissor\")\n",
        "R = 0\n",
        "P = 1\n",
        "S = 2\n",
        "import random\n",
        "X = int(random.randint(0,2))\n",
        "Y = str(input('Enter your choice R or P or S '))\n",
        "if Y == 'Rock':\n",
        "  print(\"You chose Rock\")\n",
        "  Y = R\n",
        "elif Y == 'Paper':\n",
        "  print(\"You chose Paper\")\n",
        "  Y = P\n",
        "else:\n",
        "  print(\"You chose Scissors\")\n",
        "  Y = S\n",
        "print(\"Loading....\")\n",
        "if X == 0:\n",
        "  print(\"Computer chose Rock\")\n",
        "elif X == 1:\n",
        "  print(\"Computer chose Paper\")\n",
        "else:\n",
        "  X == 0\n",
        "  print(\"Computer chose scissor\")\n",
        "\n",
        "\n",
        "if X+Y == 0:\n",
        "  print(f\"Your Choice{Y} and Computer's Choice is {X}\")\n",
        "  print(\"Tie\")\n",
        "elif X+Y == 1:\n",
        "  if Y == 1:\n",
        "    print(f\"Your Choice{Y} and Computer's Choice is {X}\")\n",
        "    print(\"Computer Won\")\n",
        "  else :\n",
        "    print(f\"Your Choice{Y} and Computer's Choice is {X}\")\n",
        "    print(\"You Won\")\n",
        "elif X+Y == 2:\n",
        "  if X == 1:\n",
        "     print(f\"Your Choice{Y} and Computer's Choice is {X}\")\n",
        "     print(\"Tie\")\n",
        "  elif Y == 2:\n",
        "     print(f\"Your Choice{Y} and Computer's Choice is {X}\")\n",
        "     print(\"Computer Won\")\n",
        "  else:\n",
        "    print(f\"Your Choice{Y} and Computer's Choice is {X}\")\n",
        "    print(\"You Won\")\n",
        "elif X+Y == 4 :\n",
        "  print(f\"Your Choice{Y} and Computer's Choice is {X}\")\n",
        "  print(\"Tie\")\n",
        "else:\n",
        "  if X == 1:\n",
        "    print(f\"Your Choice{Y} and Computer's Choice is {X}\")\n",
        "    print(\"You Won\")\n",
        "  else:\n",
        "    print(f\"Your Choice{Y} and Computer's Choice is {X}\")\n",
        "    print(\"Computer Won\")"
      ],
      "metadata": {
        "colab": {
          "base_uri": "https://localhost:8080/"
        },
        "id": "q3Qup6W4b0gl",
        "outputId": "458312e6-377c-4079-87b0-644b908c2a8c"
      },
      "execution_count": null,
      "outputs": [
        {
          "output_type": "stream",
          "name": "stdout",
          "text": [
            "Lets play rock paper scissor\n",
            "Type in R for Rock\n",
            "        P for paper and\n",
            "        S for scissor\n",
            "Enter your choice R or P or S Scissor\n",
            "You chose Scissors\n",
            "Loading....\n",
            "Computer chose scissor\n",
            "Your Choice2 and Computer's Choice is 2\n",
            "Tie\n"
          ]
        }
      ]
    }
  ]
}